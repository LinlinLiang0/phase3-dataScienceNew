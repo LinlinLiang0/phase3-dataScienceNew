{
 "cells": [
  {
   "cell_type": "markdown",
   "metadata": {},
   "source": [
    "# Phase 3 Data Science Report"
   ]
  },
  {
   "cell_type": "markdown",
   "metadata": {},
   "source": [
    "# Introduction\n",
    "In my model, I choose label bird (2) for item/animal detection, because birds are a common species in natural environment."
   ]
  },
  {
   "cell_type": "markdown",
   "metadata": {},
   "source": [
    "# Model Process\n",
    "The input shape of my model is (32, 32, 3), where \"32\"s indicate height and width, and \"3\" indicates the number of channels. I used a two groups of CNN-based sub-modules (including a 2D CNN using kernel size of 3, strides of 2, and Relu as the activation, a batch normalization layer, a 2D max pooling layer, and a dropout layer with 0.2 rate), followed by a fully connected layer to get the final result using sigmoid as the activation. The filter numbers in two 2D CNN are 32 and 64, respectively. \n",
    "I choose binary cross entropy loss which has been widely used in classification problems."
   ]
  },
  {
   "cell_type": "markdown",
   "metadata": {},
   "source": [
    "# Model Performance\n",
    "Accuracy:\n",
    "![avatar](./output/epoch_accuracy.jpg)\n",
    "Loss:\n",
    "![avatar](./output/epoch_loss.jpg)\n",
    "where the red and blue lines indicate the training and validation processes, respectively. \n",
    "\n",
    "I applied dropout layers to avoid over-fitting of the model, but the results showed that there were no significantly changes in validation accuracy and loss after around 540 epoches, while training accuracy and loss was getting optimized. The model structure should be further optimized to obtain better accuracy and loss results and curves for detection."
   ]
  },
  {
   "cell_type": "markdown",
   "metadata": {},
   "source": [
    "# Conclusion\n",
    "This report presents the implementation of item/animal detection. The model I proposed has approaximately 79% accuracy in detection. Although two dropout layers have been applied in the model, it is overfit after 540 epoches where has no more improvement."
   ]
  },
  {
   "cell_type": "markdown",
   "metadata": {},
   "source": [
    "# References\n",
    "\n",
    "1. [Learning Multiple Layers of Features from Tiny Images](http://www.cs.toronto.edu/~kriz/learning-features-2009-TR.pdf), Alex Krizhevsky, 2009."
   ]
  }
 ],
 "metadata": {
  "kernelspec": {
   "display_name": "Python 3.8.8 ('base')",
   "language": "python",
   "name": "python3"
  },
  "language_info": {
   "name": "python",
   "version": "3.8.8"
  },
  "orig_nbformat": 4,
  "vscode": {
   "interpreter": {
    "hash": "16f5b46f222e2a3e8d4adbf7141cae37b71ed37616e60735fa5d1164a1bc3ada"
   }
  }
 },
 "nbformat": 4,
 "nbformat_minor": 2
}
